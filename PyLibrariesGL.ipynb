{
  "nbformat": 4,
  "nbformat_minor": 0,
  "metadata": {
    "colab": {
      "name": "PyLibrariesGL.ipynb",
      "provenance": [],
      "collapsed_sections": []
    },
    "kernelspec": {
      "name": "python3",
      "display_name": "Python 3"
    },
    "language_info": {
      "name": "python"
    }
  },
  "cells": [
    {
      "cell_type": "markdown",
      "source": [
        "Numpy(Numerical Python)"
      ],
      "metadata": {
        "id": "HX5l3vQlIZ6p"
      }
    },
    {
      "cell_type": "code",
      "source": [
        "# Single and multi dim numpy array\n",
        "import numpy as np\n",
        "n1=np.array([1,2,3,4])\n",
        "n2=np.array([[1,2,3,4],[5,6,7,8]])\n",
        "print(n1)\n",
        "print(n2)\n",
        "print(type(n1))\n",
        "print(type(n2))\n"
      ],
      "metadata": {
        "colab": {
          "base_uri": "https://localhost:8080/"
        },
        "id": "vdyX-pisIodu",
        "outputId": "189b61ca-bf7c-45c0-e8df-c0e713f456d7"
      },
      "execution_count": null,
      "outputs": [
        {
          "output_type": "stream",
          "name": "stdout",
          "text": [
            "[1 2 3 4]\n",
            "[[1 2 3 4]\n",
            " [5 6 7 8]]\n",
            "<class 'numpy.ndarray'>\n",
            "<class 'numpy.ndarray'>\n"
          ]
        }
      ]
    },
    {
      "cell_type": "code",
      "source": [
        "# Initialise Numpy Array With Zeroes\n",
        "n3=np.zeros((1,2)) #Write () inside () otherwise it show error (it represent rows,columns)\n",
        "n3"
      ],
      "metadata": {
        "colab": {
          "base_uri": "https://localhost:8080/"
        },
        "id": "M07Tifk_JddO",
        "outputId": "3efd0d1b-2339-4554-ce8f-8ee21c5ed4d7"
      },
      "execution_count": null,
      "outputs": [
        {
          "output_type": "execute_result",
          "data": {
            "text/plain": [
              "array([[0., 0.]])"
            ]
          },
          "metadata": {},
          "execution_count": 51
        }
      ]
    },
    {
      "cell_type": "code",
      "source": [
        "# Initialise Numpy Array With Same Number (use full method)\n",
        "# Format within method is (rows,columns),number\n",
        "n4=np.full((2,3),10)\n",
        "n4"
      ],
      "metadata": {
        "colab": {
          "base_uri": "https://localhost:8080/"
        },
        "id": "otjozEQRJ5f0",
        "outputId": "ec1ad34f-838a-4488-a5ed-5944fac5fa22"
      },
      "execution_count": null,
      "outputs": [
        {
          "output_type": "execute_result",
          "data": {
            "text/plain": [
              "array([[10, 10, 10],\n",
              "       [10, 10, 10]])"
            ]
          },
          "metadata": {},
          "execution_count": 52
        }
      ]
    },
    {
      "cell_type": "code",
      "source": [
        "# Initialise Numpy Array Within A Range (use arange function)\n",
        "# Format within full method:\n",
        "# If two arguments then first number, second number\n",
        "# If three arguments then first number, second number, gap between two numbers\n",
        "# Note that second number will be exclusive\n",
        "n5= np.arange(1,100,20)\n",
        "n6=np.arange(10,15)\n",
        "print(n5)\n",
        "print(n6)"
      ],
      "metadata": {
        "colab": {
          "base_uri": "https://localhost:8080/"
        },
        "id": "gVCrcxEQKPb6",
        "outputId": "b0dcb6f8-363b-4647-80e0-1901e7c65516"
      },
      "execution_count": null,
      "outputs": [
        {
          "output_type": "stream",
          "name": "stdout",
          "text": [
            "[ 1 21 41 61 81]\n",
            "[10 11 12 13 14]\n"
          ]
        }
      ]
    },
    {
      "cell_type": "code",
      "source": [
        "# Initialise Numpy Array With Random Numbers (use numpy.random.randint)\n",
        "# Format is first number , second number, no of the random integers within that range\n",
        "n7=np.random.randint(1,200,3)\n",
        "n7"
      ],
      "metadata": {
        "colab": {
          "base_uri": "https://localhost:8080/"
        },
        "id": "9T6FDEJELhsN",
        "outputId": "ccaa171f-8419-40a2-a522-356b8e19b26c"
      },
      "execution_count": null,
      "outputs": [
        {
          "output_type": "execute_result",
          "data": {
            "text/plain": [
              "array([124, 120, 144])"
            ]
          },
          "metadata": {},
          "execution_count": 54
        }
      ]
    },
    {
      "cell_type": "code",
      "source": [
        "# Check shape of numpy array (use shape)\n",
        "# use n1(example).shape\n",
        "# We can also change the shape\n",
        "print(n1.shape)\n",
        "n1.shape=(4,1)\n",
        "n1"
      ],
      "metadata": {
        "colab": {
          "base_uri": "https://localhost:8080/"
        },
        "id": "s2xUBEZhMBl6",
        "outputId": "74d3227a-9212-4696-b2ee-0362e83e6263"
      },
      "execution_count": null,
      "outputs": [
        {
          "output_type": "stream",
          "name": "stdout",
          "text": [
            "(4,)\n"
          ]
        },
        {
          "output_type": "execute_result",
          "data": {
            "text/plain": [
              "array([[1],\n",
              "       [2],\n",
              "       [3],\n",
              "       [4]])"
            ]
          },
          "metadata": {},
          "execution_count": 55
        }
      ]
    },
    {
      "cell_type": "code",
      "source": [
        "# Joining Numpy Arrays\n",
        "# Use vstack() hstack() column_stack() methods\n",
        "# Here also syntax : pass brackets within brackets for example ((n1,n2))\n",
        "n8=np.array([1,2,3])\n",
        "n9=np.array([4,5,6])\n",
        "n10=np.vstack((n8,n9))\n",
        "n10"
      ],
      "metadata": {
        "colab": {
          "base_uri": "https://localhost:8080/"
        },
        "id": "LPDHfl7MMx5u",
        "outputId": "f3456522-4390-422d-edbd-fd850716cc30"
      },
      "execution_count": null,
      "outputs": [
        {
          "output_type": "execute_result",
          "data": {
            "text/plain": [
              "array([[1, 2, 3],\n",
              "       [4, 5, 6]])"
            ]
          },
          "metadata": {},
          "execution_count": 56
        }
      ]
    },
    {
      "cell_type": "code",
      "source": [
        "# Intersection and difference\n",
        "# use intersect1d and setdiff1d (they return an np array) (Don't nest brackets in syntax)\n",
        "# suppose\n",
        "n11=np.array([1,2,3,4,5,6])\n",
        "np.intersect1d(n8,n11)\n",
        "# Intersect is like set operation A intersection B and setdiff1d is like operation A-B "
      ],
      "metadata": {
        "colab": {
          "base_uri": "https://localhost:8080/"
        },
        "id": "T6pYT_9bNwx7",
        "outputId": "b4354379-ae45-433b-e018-8d3c0d7855e0"
      },
      "execution_count": null,
      "outputs": [
        {
          "output_type": "execute_result",
          "data": {
            "text/plain": [
              "array([1, 2, 3])"
            ]
          },
          "metadata": {},
          "execution_count": 57
        }
      ]
    },
    {
      "cell_type": "code",
      "source": [
        "# Sum Method \n",
        "# We need to pass numpy arrays as a list\n",
        "# For sum of all the elements third argumnet is absent\n",
        "# For sum of elements along row axis=1\n",
        "# For sum of elements along column axis=0\n",
        "n12=np.array([1,2,3])\n",
        "n13=np.array([4,5,6])\n",
        "print(np.sum([n12,n13],axis=0))\n",
        "print(np.sum([n12,n13],axis=1))\n",
        "print(np.sum([n12,n13]))"
      ],
      "metadata": {
        "colab": {
          "base_uri": "https://localhost:8080/"
        },
        "id": "3XCp9gnSQdbx",
        "outputId": "619747b6-9c59-4e63-f24c-f1b23970a92d"
      },
      "execution_count": null,
      "outputs": [
        {
          "output_type": "stream",
          "name": "stdout",
          "text": [
            "[5 7 9]\n",
            "[ 6 15]\n",
            "21\n"
          ]
        }
      ]
    },
    {
      "cell_type": "code",
      "source": [
        "# Basic Math On Numpy Arrays\n",
        "print(n12+1)\n",
        "print(n12-1)\n",
        "print(n13/2) #Will give float elements because division in python by default gives float value.\n",
        "print(n13*2)"
      ],
      "metadata": {
        "colab": {
          "base_uri": "https://localhost:8080/"
        },
        "id": "vIral-TERLfC",
        "outputId": "cf67768e-dd17-4f35-ca38-37a4a001899b"
      },
      "execution_count": null,
      "outputs": [
        {
          "output_type": "stream",
          "name": "stdout",
          "text": [
            "[2 3 4]\n",
            "[0 1 2]\n",
            "[2.  2.5 3. ]\n",
            "[ 8 10 12]\n"
          ]
        }
      ]
    },
    {
      "cell_type": "code",
      "source": [
        "# Mean Median Standard Deviation\n",
        "print(np.mean(n12))\n",
        "print(np.std(n12))\n",
        "print(np.median(n12))"
      ],
      "metadata": {
        "colab": {
          "base_uri": "https://localhost:8080/"
        },
        "id": "Rk-XlRpZRrwe",
        "outputId": "fc23da50-9091-4ff4-888a-fa5863e53e3c"
      },
      "execution_count": null,
      "outputs": [
        {
          "output_type": "stream",
          "name": "stdout",
          "text": [
            "2.0\n",
            "0.816496580927726\n",
            "2.0\n"
          ]
        }
      ]
    },
    {
      "cell_type": "code",
      "source": [
        "# Numpy Matrix And Slicing\n",
        "n14=np.array([[1,2,3,4,5],[6,7,8,9,10],[11,12,13,14,15],[16,17,18,19,20]])\n",
        "n15=n14[0:2,2:] #first argument is for rows(before comma) and second argument refers to columns\n",
        "#0:2 --> 0th and 1st row which means two rows in n15\n",
        "#2: --> from 2nd column to the last column (including it) which means 3 columns in n15\n",
        "n15"
      ],
      "metadata": {
        "colab": {
          "base_uri": "https://localhost:8080/"
        },
        "id": "ztIv_DBlUeI1",
        "outputId": "9ace8da5-de85-4fdc-86ca-a09537bf8108"
      },
      "execution_count": null,
      "outputs": [
        {
          "output_type": "execute_result",
          "data": {
            "text/plain": [
              "array([[ 3,  4,  5],\n",
              "       [ 8,  9, 10]])"
            ]
          },
          "metadata": {},
          "execution_count": 61
        }
      ]
    },
    {
      "cell_type": "code",
      "source": [
        "# Transpose and matrix multiplication\n",
        "n16=np.transpose(n14)\n",
        "print(n16)\n",
        "# for multiplication we use first_matrix.dot(second_matrix) but they must be compatible with multiplication\n",
        "n17=np.array([[1,2,3],[4,5,6]])\n",
        "n18=np.array([[7,8,9],[10,11,12],[13,14,15]])\n",
        "n19=n17.dot(n18)\n",
        "print(n19)"
      ],
      "metadata": {
        "colab": {
          "base_uri": "https://localhost:8080/"
        },
        "id": "WmPzwNwRVepa",
        "outputId": "4c509344-036a-4c21-e6f2-58a6a59807df"
      },
      "execution_count": null,
      "outputs": [
        {
          "output_type": "stream",
          "name": "stdout",
          "text": [
            "[[ 1  6 11 16]\n",
            " [ 2  7 12 17]\n",
            " [ 3  8 13 18]\n",
            " [ 4  9 14 19]\n",
            " [ 5 10 15 20]]\n",
            "[[ 66  72  78]\n",
            " [156 171 186]]\n"
          ]
        }
      ]
    },
    {
      "cell_type": "markdown",
      "source": [
        "Pandas(Panel Data)"
      ],
      "metadata": {
        "id": "viNrF1OTYDu9"
      }
    },
    {
      "cell_type": "code",
      "source": [
        "import pandas as pd\n",
        "# Unlike Numpy here we have series object in which each element has a label(index) linked to it"
      ],
      "metadata": {
        "id": "4FVGsI0ZYHIY"
      },
      "execution_count": null,
      "outputs": []
    },
    {
      "cell_type": "code",
      "source": [
        "s1=pd.Series([1,2,3,4,5])\n",
        "print(s1)\n",
        "print(type(s1))"
      ],
      "metadata": {
        "colab": {
          "base_uri": "https://localhost:8080/"
        },
        "id": "7ypuEkPrYuz6",
        "outputId": "44b200e5-691a-4345-9012-33131ca640c9"
      },
      "execution_count": null,
      "outputs": [
        {
          "output_type": "stream",
          "name": "stdout",
          "text": [
            "0    1\n",
            "1    2\n",
            "2    3\n",
            "3    4\n",
            "4    5\n",
            "dtype: int64\n",
            "<class 'pandas.core.series.Series'>\n"
          ]
        }
      ]
    },
    {
      "cell_type": "code",
      "source": [
        "# Here we see that index is 0 1 2 3 by defualt inorder to change we add second parameter in series function which is index and we pass list of values\n",
        "s2=pd.Series([23,24,25,26,27],index=['a','b','c','d','e'])\n",
        "s2"
      ],
      "metadata": {
        "colab": {
          "base_uri": "https://localhost:8080/"
        },
        "id": "8ZIkyxcXZDC2",
        "outputId": "50f8825b-ee15-4481-f0c6-2c33be5cc266"
      },
      "execution_count": null,
      "outputs": [
        {
          "output_type": "execute_result",
          "data": {
            "text/plain": [
              "a    23\n",
              "b    24\n",
              "c    25\n",
              "d    26\n",
              "e    27\n",
              "dtype: int64"
            ]
          },
          "metadata": {},
          "execution_count": 65
        }
      ]
    },
    {
      "cell_type": "code",
      "source": [
        "# We can also create a series object from dictionary\n",
        "s3=pd.Series({'Sachin':100,'Virat':90,'Rahul':75})\n",
        "s3"
      ],
      "metadata": {
        "colab": {
          "base_uri": "https://localhost:8080/"
        },
        "id": "4tO_1fV1Zx04",
        "outputId": "ec23da4c-23c4-46ce-f522-b3e88ec33c7c"
      },
      "execution_count": null,
      "outputs": [
        {
          "output_type": "execute_result",
          "data": {
            "text/plain": [
              "Sachin    100\n",
              "Virat      90\n",
              "Rahul      75\n",
              "dtype: int64"
            ]
          },
          "metadata": {},
          "execution_count": 66
        }
      ]
    },
    {
      "cell_type": "code",
      "source": [
        "# Changing Index Position\n",
        "s4=pd.Series([1,2,3,4,5],index=['a','b','c','d','e'])\n",
        "print(s4)\n",
        "s4=pd.Series(s4,index=['e','d','c','b','a'])\n",
        "print(s4)\n",
        "# Note that if a given index does not match or is not present then NaN will be displayed against that particular index."
      ],
      "metadata": {
        "colab": {
          "base_uri": "https://localhost:8080/"
        },
        "id": "Ptkc4NVfai9Y",
        "outputId": "de55348e-f7c1-44ad-b078-7a665e1c2657"
      },
      "execution_count": null,
      "outputs": [
        {
          "output_type": "stream",
          "name": "stdout",
          "text": [
            "a    1\n",
            "b    2\n",
            "c    3\n",
            "d    4\n",
            "e    5\n",
            "dtype: int64\n",
            "e    5\n",
            "d    4\n",
            "c    3\n",
            "b    2\n",
            "a    1\n",
            "dtype: int64\n"
          ]
        }
      ]
    },
    {
      "cell_type": "code",
      "source": [
        "# Extracting an element\n",
        "# Note series now has changed positions --> 5,4,3,2,1\n",
        "print(s4[3])\n",
        "print(s4[-4:]) #will print from 4th last element to the end of the series\n",
        "print(s4[:4]) #from the starting(0th index) to the 3rd index because 4 is exclusive"
      ],
      "metadata": {
        "id": "PZfZqH-eZ2R0",
        "colab": {
          "base_uri": "https://localhost:8080/"
        },
        "outputId": "a027c7d4-8ba3-4ede-f57a-23e226502a11"
      },
      "execution_count": null,
      "outputs": [
        {
          "output_type": "stream",
          "name": "stdout",
          "text": [
            "2\n",
            "d    4\n",
            "c    3\n",
            "b    2\n",
            "a    1\n",
            "dtype: int64\n",
            "e    5\n",
            "d    4\n",
            "c    3\n",
            "b    2\n",
            "dtype: int64\n"
          ]
        }
      ]
    },
    {
      "cell_type": "code",
      "source": [
        "# Adding a scalar value \n",
        "# Adding series\n",
        "s5=pd.Series([1,2,3,4,5])\n",
        "s6=pd.Series([21,22,23,24,25])\n",
        "print(s5 + 5)\n",
        "print(s6+s5)"
      ],
      "metadata": {
        "colab": {
          "base_uri": "https://localhost:8080/"
        },
        "id": "I3ZJsG6NiCkj",
        "outputId": "c7090733-3185-4510-ab99-a2bf5f25a92a"
      },
      "execution_count": null,
      "outputs": [
        {
          "output_type": "stream",
          "name": "stdout",
          "text": [
            "0     6\n",
            "1     7\n",
            "2     8\n",
            "3     9\n",
            "4    10\n",
            "dtype: int64\n",
            "0    22\n",
            "1    24\n",
            "2    26\n",
            "3    28\n",
            "4    30\n",
            "dtype: int64\n"
          ]
        }
      ]
    },
    {
      "cell_type": "markdown",
      "source": [
        "Creating DataFrames"
      ],
      "metadata": {
        "id": "pbIQUl9cjLYF"
      }
    },
    {
      "cell_type": "code",
      "source": [
        "df=pd.DataFrame({'Name':['Harsh','Ravi','Rahul'],'Marks':[90,80,70]})\n",
        "print(df)\n",
        "print(type(df))"
      ],
      "metadata": {
        "colab": {
          "base_uri": "https://localhost:8080/"
        },
        "id": "Ha_7Lqq0jMaL",
        "outputId": "b0429317-68fc-493f-b458-1e81e57c06fe"
      },
      "execution_count": null,
      "outputs": [
        {
          "output_type": "stream",
          "name": "stdout",
          "text": [
            "    Name  Marks\n",
            "0  Harsh     90\n",
            "1   Ravi     80\n",
            "2  Rahul     70\n",
            "<class 'pandas.core.frame.DataFrame'>\n"
          ]
        }
      ]
    },
    {
      "cell_type": "code",
      "source": [
        "# DataFrame InBuilt Functions\n",
        "# head() shape() describe() tail()\n",
        "# We perform it on a dataset say a csv file\n",
        "# Example code say name of dataset is studentdata.csv\n",
        "\n",
        "# df=pd.read_csv('studentdata.csv')\n",
        "# if we want to print first 5 entries then use\n",
        "# print(df.head())\n",
        "# tail method would give last 5 rows in the dataset\n",
        "# print(df.tail())\n",
        "# to check no of rows and columns in the dataset use shape\n",
        "# print(df.shape())\n",
        "# if we use describe method then it gives various details wrt each column like minimum, standard deviation, count,max"
      ],
      "metadata": {
        "id": "juXPmi7ByuJW"
      },
      "execution_count": null,
      "outputs": []
    },
    {
      "cell_type": "code",
      "source": [
        "# Just like slicing in numpy here we have the .iloc() method to extract data about certain selected rows/columns\n",
        "# like df.iloc([0:3,0:2]) \n",
        "# it will display rows 0,1 & 2 and due to 0:2 it will display columns 0 and 1 (the label column (index 0, 1 ,2 etc.) is not considered)"
      ],
      "metadata": {
        "id": "cdTNAp_L1MJv"
      },
      "execution_count": null,
      "outputs": []
    },
    {
      "cell_type": "code",
      "source": [
        "# We use the loc method to extract columns on basis of their names but here we need to remember that while specifying rows in first argument\n",
        "# suppose 0:3 3 would be inclusive"
      ],
      "metadata": {
        "id": "NCsiYlJY4Ci7"
      },
      "execution_count": null,
      "outputs": []
    },
    {
      "cell_type": "code",
      "source": [
        "# We can also drop columns using df.drop('Name of column',axis=0/1 for row/column resp)"
      ],
      "metadata": {
        "id": "UhMg1Hox4vXW"
      },
      "execution_count": null,
      "outputs": []
    },
    {
      "cell_type": "code",
      "source": [
        "# For all the columns we can get data like min median max mean using df.mean() df.median() etc."
      ],
      "metadata": {
        "id": "jSNccgW14vcV"
      },
      "execution_count": null,
      "outputs": []
    },
    {
      "cell_type": "markdown",
      "source": [
        "Matplotlib"
      ],
      "metadata": {
        "id": "alkbYLSrM9H9"
      }
    },
    {
      "cell_type": "code",
      "source": [
        "# We can create bar plot scatter plots histogram etc with this library\n",
        "import numpy as np\n",
        "from matplotlib import pyplot as plt"
      ],
      "metadata": {
        "id": "JGvsuU9lNC06"
      },
      "execution_count": null,
      "outputs": []
    },
    {
      "cell_type": "code",
      "source": [
        "x=np.array([1,2,3,4,5])\n",
        "y=2*x\n",
        "plt.plot(x,y) #to create line plot\n",
        "plt.show()"
      ],
      "metadata": {
        "colab": {
          "base_uri": "https://localhost:8080/",
          "height": 265
        },
        "id": "XaOlZ6TTNinr",
        "outputId": "2a38d9f6-82bb-4ea7-eeef-60470c074f75"
      },
      "execution_count": null,
      "outputs": [
        {
          "output_type": "display_data",
          "data": {
            "image/png": "[encoded data removed]",
            "text/plain": [
              "<Figure size 432x288 with 1 Axes>"
            ]
          },
          "metadata": {
            "needs_background": "light"
          }
        }
      ]
    },
    {
      "cell_type": "code",
      "source": [
        "# In order to add title xlabel and ylabel\n",
        "plt.plot(x,y)\n",
        "plt.title('Example Plot')\n",
        "plt.xlabel('x values')\n",
        "plt.ylabel('y values')\n",
        "plt.show()"
      ],
      "metadata": {
        "colab": {
          "base_uri": "https://localhost:8080/",
          "height": 295
        },
        "id": "ekQqR7VnOEnj",
        "outputId": "ae3f812f-1471-4222-d8c1-0c36b654a092"
      },
      "execution_count": null,
      "outputs": [
        {
          "output_type": "display_data",
          "data": {
            "image/png": "[encoded data removed]",
            "text/plain": [
              "<Figure size 432x288 with 1 Axes>"
            ]
          },
          "metadata": {
            "needs_background": "light"
          }
        }
      ]
    },
    {
      "cell_type": "code",
      "source": [
        "# Change Line Aesthetics\n",
        "plt.plot(x,y,color='g',linestyle='-.',linewidth=5)\n",
        "plt.show()"
      ],
      "metadata": {
        "colab": {
          "base_uri": "https://localhost:8080/",
          "height": 265
        },
        "id": "E3A2KPL4PR4E",
        "outputId": "e90501c8-de4c-4c4f-eb16-14484a22fb10"
      },
      "execution_count": null,
      "outputs": [
        {
          "output_type": "display_data",
          "data": {
            "image/png": "[encoded data removed]",
            "text/plain": [
              "<Figure size 432x288 with 1 Axes>"
            ]
          },
          "metadata": {
            "needs_background": "light"
          }
        }
      ]
    },
    {
      "cell_type": "code",
      "source": [
        "# We can also have two lines in the same plot \n",
        "y1=2*x\n",
        "y2=3*x\n",
        "plt.grid(True) #To Display Grid\n",
        "plt.plot(x,y1,color='orange',linestyle='-',linewidth=4)\n",
        "plt.plot(x,y2,color='red',linestyle='-',linewidth=4)\n",
        "plt.title('Sample Plot')\n",
        "plt.xlabel('x values')\n",
        "plt.ylabel('y values')\n",
        "plt.show()"
      ],
      "metadata": {
        "colab": {
          "base_uri": "https://localhost:8080/",
          "height": 295
        },
        "id": "iTRbo0TYQVfe",
        "outputId": "77680fca-e779-43a8-fd5c-040f3919540d"
      },
      "execution_count": null,
      "outputs": [
        {
          "output_type": "display_data",
          "data": {
            "image/png": "[encoded data removed]",
            "text/plain": [
              "<Figure size 432x288 with 1 Axes>"
            ]
          },
          "metadata": {
            "needs_background": "light"
          }
        }
      ]
    },
    {
      "cell_type": "code",
      "source": [
        "# In above example we created two lines in the same plot but we can also create sub plots\n",
        "x1=np.arange(1,12)\n",
        "y3=2*x1\n",
        "y4=3*x1\n",
        "\n",
        "plt.subplot(1,2,1)\n",
        "# Within Brackets of subplot 1--> 1 row 2--> 2 columns 1--> following subplot will be present at the 1st index\n",
        "plt.plot(x1,y3,color='g')\n",
        "plt.grid(True)\n",
        "plt.subplot(1,2,2)\n",
        "plt.plot(x1,y4,color='r')\n",
        "plt.grid(True)\n",
        "plt.show()\n",
        "# Indexing in brackets is 1 based not 0 based (third parameter of subplot method)"
      ],
      "metadata": {
        "colab": {
          "base_uri": "https://localhost:8080/",
          "height": 265
        },
        "id": "pSB2pZ6vSEP7",
        "outputId": "67d95efa-3d8e-4023-bbe8-5475cf898323"
      },
      "execution_count": null,
      "outputs": [
        {
          "output_type": "display_data",
          "data": {
            "image/png": "[encoded data removed]",
            "text/plain": [
              "<Figure size 432x288 with 2 Axes>"
            ]
          },
          "metadata": {
            "needs_background": "light"
          }
        }
      ]
    },
    {
      "cell_type": "code",
      "source": [
        "# Creating a bar plot\n",
        "# Consider dictionary containing students data\n",
        "students={'Ravi':98,'Harsh':81,'Abhishek':70}\n",
        "names=list(students.keys())\n",
        "marks=list(students.values())\n",
        "plt.bar(names,marks)\n",
        "# We can also add grid title xlabel ylabel\n",
        "plt.title('Marks Report')\n",
        "plt.xlabel('Names')\n",
        "plt.ylabel('Marks')\n",
        "plt.grid(True)\n",
        "plt.show()"
      ],
      "metadata": {
        "colab": {
          "base_uri": "https://localhost:8080/",
          "height": 295
        },
        "id": "T4sCasqPUGZ_",
        "outputId": "3ea9c259-7846-4ccf-9d3f-063e50cd2d56"
      },
      "execution_count": null,
      "outputs": [
        {
          "output_type": "display_data",
          "data": {
            "image/png": "[encoded data removed]",
            "text/plain": [
              "<Figure size 432x288 with 1 Axes>"
            ]
          },
          "metadata": {
            "needs_background": "light"
          }
        }
      ]
    },
    {
      "cell_type": "code",
      "source": [
        "# In order to create a horizontal bar plot we use plt.barh()\n",
        "plt.barh(names,marks,color='g')\n",
        "plt.xlabel('Marks')\n",
        "plt.ylabel('Names')"
      ],
      "metadata": {
        "colab": {
          "base_uri": "https://localhost:8080/",
          "height": 296
        },
        "id": "s1-MV95CVnlU",
        "outputId": "d9c77320-db29-40f2-d6ea-3682f2b6b1f1"
      },
      "execution_count": null,
      "outputs": [
        {
          "output_type": "execute_result",
          "data": {
            "text/plain": [
              "Text(0, 0.5, 'Names')"
            ]
          },
          "metadata": {},
          "execution_count": 83
        },
        {
          "output_type": "display_data",
          "data": {
            "image/png": "[encoded data removed]",
            "text/plain": [
              "<Figure size 432x288 with 1 Axes>"
            ]
          },
          "metadata": {
            "needs_background": "light"
          }
        }
      ]
    },
    {
      "cell_type": "code",
      "source": [
        "# Creating a Scatter Plot\n",
        "# We need two lists and the length of both of them must be same otherwise it will throw error\n",
        "# Just Like A Frequency Distribution \n",
        "u=[1,2,3,4,5,6,7,8,9,10]\n",
        "v=[8,1,4,2,7,3,9,2,4,6]\n",
        "plt.scatter(u,v)\n",
        "plt.show()"
      ],
      "metadata": {
        "colab": {
          "base_uri": "https://localhost:8080/",
          "height": 265
        },
        "id": "-jO3MSUHWrk3",
        "outputId": "0898dcce-d1d0-4ad2-ef9d-7cd206707f87"
      },
      "execution_count": null,
      "outputs": [
        {
          "output_type": "display_data",
          "data": {
            "image/png": "[encoded data removed]",
            "text/plain": [
              "<Figure size 432x288 with 1 Axes>"
            ]
          },
          "metadata": {
            "needs_background": "light"
          }
        }
      ]
    },
    {
      "cell_type": "code",
      "source": [
        "# Changing Mark Aesthetics\n",
        "plt.scatter(u,v,c='g',marker='*',s=100)\n",
        "# here c means color s means size\n",
        "plt.show()"
      ],
      "metadata": {
        "colab": {
          "base_uri": "https://localhost:8080/",
          "height": 265
        },
        "id": "TzRaZP3NXgFR",
        "outputId": "0132b5ae-ec4c-47ed-a9dd-5628f72032de"
      },
      "execution_count": null,
      "outputs": [
        {
          "output_type": "display_data",
          "data": {
            "image/png": "[encoded data removed]",
            "text/plain": [
              "<Figure size 432x288 with 1 Axes>"
            ]
          },
          "metadata": {
            "needs_background": "light"
          }
        }
      ]
    },
    {
      "cell_type": "code",
      "source": [
        "# As we did for line plot we can also do for scatter plot for having two different markers (set of two different lists) in the same plot\n",
        "w=[4,2,6,7,1,3,9,8,2,5]\n",
        "plt.scatter(u,v,color='g',marker='*',s=100)\n",
        "plt.scatter(u,w,color='r',s=100)\n",
        "plt.show()"
      ],
      "metadata": {
        "colab": {
          "base_uri": "https://localhost:8080/",
          "height": 265
        },
        "id": "bVXnJGK-YEd0",
        "outputId": "3c676a18-daa2-48e6-a296-ed6b0e402cc9"
      },
      "execution_count": null,
      "outputs": [
        {
          "output_type": "display_data",
          "data": {
            "image/png": "[encoded data removed]",
            "text/plain": [
              "<Figure size 432x288 with 1 Axes>"
            ]
          },
          "metadata": {
            "needs_background": "light"
          }
        }
      ]
    },
    {
      "cell_type": "code",
      "source": [
        "# Similarly we can also create subplots as done in case of line plot"
      ],
      "metadata": {
        "id": "kNIHAQ7zZs88"
      },
      "execution_count": null,
      "outputs": []
    },
    {
      "cell_type": "markdown",
      "source": [
        "Histogram"
      ],
      "metadata": {
        "id": "Rcvy11EQcftw"
      }
    },
    {
      "cell_type": "code",
      "source": [
        "# In a histogram corresponding to a particular value on the x axis the rectangle height denotes the number of times the value is present in the list\n",
        "l=[1,2,3,3,4,4,4,5,6,6,7,8,8,9,9,9]\n",
        "plt.hist(l,color='g')\n",
        "plt.show()"
      ],
      "metadata": {
        "colab": {
          "base_uri": "https://localhost:8080/",
          "height": 265
        },
        "id": "PmRt9uwYcg3U",
        "outputId": "6299530c-9333-4c36-d708-a6699d4973cf"
      },
      "execution_count": null,
      "outputs": [
        {
          "output_type": "display_data",
          "data": {
            "image/png": "[encoded data removed]",
            "text/plain": [
              "<Figure size 432x288 with 1 Axes>"
            ]
          },
          "metadata": {
            "needs_background": "light"
          }
        }
      ]
    },
    {
      "cell_type": "code",
      "source": [
        "# We can reduce number of bins(bars) by bins attribute\n",
        "plt.hist(l,color='g',bins=4)\n",
        "plt.show()"
      ],
      "metadata": {
        "colab": {
          "base_uri": "https://localhost:8080/",
          "height": 265
        },
        "id": "I8cyQE0BdjEm",
        "outputId": "0c1980ac-37be-4cd9-a201-9950a5e6926c"
      },
      "execution_count": null,
      "outputs": [
        {
          "output_type": "display_data",
          "data": {
            "image/png": "[encoded data removed]",
            "text/plain": [
              "<Figure size 432x288 with 1 Axes>"
            ]
          },
          "metadata": {
            "needs_background": "light"
          }
        }
      ]
    },
    {
      "cell_type": "code",
      "source": [
        "# Working With A Dataset\n",
        "# Example with a file named studentdata\n",
        "# Using Pandas \n",
        "# studentdata=pd.read_csv('studentdata.csv')\n",
        "# studentdata.head()\n",
        "# plt.hist(studentdata['Column_Name'],bins=30,color='r')\n",
        "# plt.show()"
      ],
      "metadata": {
        "id": "7LSdlYEz4I8H"
      },
      "execution_count": null,
      "outputs": []
    },
    {
      "cell_type": "markdown",
      "source": [
        "Box Plot"
      ],
      "metadata": {
        "id": "ri6ys3HP5WBt"
      }
    },
    {
      "cell_type": "code",
      "source": [
        "# A box and whisker plot—also called a box plot—displays the five-number summary of a set of data. \n",
        "# The five-number summary is the minimum, first quartile, median, third quartile, and maximum.\n",
        "\n",
        "l1=[1,2,3,4,5,6,7]\n",
        "l2=[3,1,5,2,6,4,8]\n",
        "l3=[4,5,7,1,8,2,9]\n",
        "data=list([l1,l2,l3])\n",
        "print(data)\n",
        "plt.boxplot(data)\n",
        "plt.show()"
      ],
      "metadata": {
        "colab": {
          "base_uri": "https://localhost:8080/",
          "height": 282
        },
        "id": "OW0h_Io-5YA4",
        "outputId": "6f539b23-b622-40d6-fe75-2f3b41cf9f85"
      },
      "execution_count": null,
      "outputs": [
        {
          "output_type": "stream",
          "name": "stdout",
          "text": [
            "[[1, 2, 3, 4, 5, 6, 7], [3, 1, 5, 2, 6, 4, 8], [4, 5, 7, 1, 8, 2, 9]]\n"
          ]
        },
        {
          "output_type": "display_data",
          "data": {
            "image/png": "[encoded data removed]",
            "text/plain": [
              "<Figure size 432x288 with 1 Axes>"
            ]
          },
          "metadata": {
            "needs_background": "light"
          }
        }
      ]
    },
    {
      "cell_type": "markdown",
      "source": [
        "Violin Plot"
      ],
      "metadata": {
        "id": "3q3l3eNa6cLG"
      }
    },
    {
      "cell_type": "code",
      "source": [
        "# Is similar to box plot\n",
        "plt.violinplot(data,showmedians=True)\n",
        "plt.show()\n",
        "# We can also pass in second argument which is showmedians=True becuase medians are not shown by default in actual plot"
      ],
      "metadata": {
        "colab": {
          "base_uri": "https://localhost:8080/",
          "height": 265
        },
        "id": "PjLSXyXu6eZG",
        "outputId": "becdbc26-90c9-4ef5-b8d1-0782f9aa5ea7"
      },
      "execution_count": null,
      "outputs": [
        {
          "output_type": "display_data",
          "data": {
            "image/png": "[encoded data removed]",
            "text/plain": [
              "<Figure size 432x288 with 1 Axes>"
            ]
          },
          "metadata": {
            "needs_background": "light"
          }
        }
      ]
    },
    {
      "cell_type": "markdown",
      "source": [
        "Pie Chart"
      ],
      "metadata": {
        "id": "URwTX8eI65-W"
      }
    },
    {
      "cell_type": "code",
      "source": [
        "# Understand/Analyse percentage of different categorical values\n",
        "fruit=['Apple','Orange','Gauva','Mango']\n",
        "quantity=[25,21,19,35] #must not necessarily add upto 100\n",
        "plt.pie(quantity,labels=fruit)\n",
        "plt.show()"
      ],
      "metadata": {
        "colab": {
          "base_uri": "https://localhost:8080/",
          "height": 248
        },
        "id": "F6ZFxnwQ67rU",
        "outputId": "24fea229-e6b9-46f9-e48d-01a775b8aefc"
      },
      "execution_count": null,
      "outputs": [
        {
          "output_type": "display_data",
          "data": {
            "image/png": "[encoded data removed]",
            "text/plain": [
              "<Figure size 432x288 with 1 Axes>"
            ]
          },
          "metadata": {}
        }
      ]
    },
    {
      "cell_type": "code",
      "source": [
        "# we can also add percentages and change aesthetics of the pie chart shown above\n",
        "# for that we will do the following\n",
        "# Here 0.1 means i will have decimal values to one place (if 02 then two decimal places), coloring starts from first label\n",
        "plt.pie(quantity,labels=fruit,autopct='%0.1f%%',colors=['yellow','blue','pink','grey'])\n",
        "plt.show()"
      ],
      "metadata": {
        "colab": {
          "base_uri": "https://localhost:8080/",
          "height": 248
        },
        "id": "1t-NUaNB7weP",
        "outputId": "c1424305-0b22-4f04-d1c7-1f1f60fbad54"
      },
      "execution_count": null,
      "outputs": [
        {
          "output_type": "display_data",
          "data": {
            "image/png": "[encoded data removed]",
            "text/plain": [
              "<Figure size 432x288 with 1 Axes>"
            ]
          },
          "metadata": {}
        }
      ]
    },
    {
      "cell_type": "markdown",
      "source": [
        "DoughNut Chart"
      ],
      "metadata": {
        "id": "tMzyLMPO8vuB"
      }
    },
    {
      "cell_type": "code",
      "source": [
        "# Quite Similar to a pie chart\n",
        "# We will have two pie charts with same data as of above cell\n",
        "\n",
        "plt.pie(quantity,labels=fruit,radius=2,colors=['red','yellow','orange','green'])\n",
        "plt.pie([1],colors=['w'],radius=1)\n",
        "plt.show()"
      ],
      "metadata": {
        "colab": {
          "base_uri": "https://localhost:8080/",
          "height": 381
        },
        "id": "hnybm3wJ8-sM",
        "outputId": "9532a1ef-7e8d-4108-de35-60e0768272dd"
      },
      "execution_count": null,
      "outputs": [
        {
          "output_type": "display_data",
          "data": {
            "image/png": "[encoded data removed]",
            "text/plain": [
              "<Figure size 432x288 with 1 Axes>"
            ]
          },
          "metadata": {}
        }
      ]
    },
    {
      "cell_type": "markdown",
      "source": [
        "SeaBorn(Built on top of matplotlib)"
      ],
      "metadata": {
        "id": "i_RFPhIh9fg9"
      }
    },
    {
      "cell_type": "code",
      "source": [
        "import seaborn as sns\n",
        "from matplotlib import pyplot as plt"
      ],
      "metadata": {
        "id": "benKAFQj9kb8"
      },
      "execution_count": null,
      "outputs": []
    },
    {
      "cell_type": "code",
      "source": [
        "fmri=sns.load_dataset('fmri')   #fmri is a built in dataset \n",
        "fmri.head()"
      ],
      "metadata": {
        "colab": {
          "base_uri": "https://localhost:8080/",
          "height": 206
        },
        "id": "zwOmxZvX_zBd",
        "outputId": "0c0a8323-0221-4448-9fe2-729beff93192"
      },
      "execution_count": null,
      "outputs": [
        {
          "output_type": "execute_result",
          "data": {
            "text/html": [
              "\n",
              "  <div id=\"df-d4b229cc-3837-47e1-8354-185d9f27eadf\">\n",
              "    <div class=\"colab-df-container\">\n",
              "      <div>\n",
              "<style scoped>\n",
              "    .dataframe tbody tr th:only-of-type {\n",
              "        vertical-align: middle;\n",
              "    }\n",
              "\n",
              "    .dataframe tbody tr th {\n",
              "        vertical-align: top;\n",
              "    }\n",
              "\n",
              "    .dataframe thead th {\n",
              "        text-align: right;\n",
              "    }\n",
              "</style>\n",
              "<table border=\"1\" class=\"dataframe\">\n",
              "  <thead>\n",
              "    <tr style=\"text-align: right;\">\n",
              "      <th></th>\n",
              "      <th>subject</th>\n",
              "      <th>timepoint</th>\n",
              "      <th>event</th>\n",
              "      <th>region</th>\n",
              "      <th>signal</th>\n",
              "    </tr>\n",
              "  </thead>\n",
              "  <tbody>\n",
              "    <tr>\n",
              "      <th>0</th>\n",
              "      <td>s13</td>\n",
              "      <td>18</td>\n",
              "      <td>stim</td>\n",
              "      <td>parietal</td>\n",
              "      <td>-0.017552</td>\n",
              "    </tr>\n",
              "    <tr>\n",
              "      <th>1</th>\n",
              "      <td>s5</td>\n",
              "      <td>14</td>\n",
              "      <td>stim</td>\n",
              "      <td>parietal</td>\n",
              "      <td>-0.080883</td>\n",
              "    </tr>\n",
              "    <tr>\n",
              "      <th>2</th>\n",
              "      <td>s12</td>\n",
              "      <td>18</td>\n",
              "      <td>stim</td>\n",
              "      <td>parietal</td>\n",
              "      <td>-0.081033</td>\n",
              "    </tr>\n",
              "    <tr>\n",
              "      <th>3</th>\n",
              "      <td>s11</td>\n",
              "      <td>18</td>\n",
              "      <td>stim</td>\n",
              "      <td>parietal</td>\n",
              "      <td>-0.046134</td>\n",
              "    </tr>\n",
              "    <tr>\n",
              "      <th>4</th>\n",
              "      <td>s10</td>\n",
              "      <td>18</td>\n",
              "      <td>stim</td>\n",
              "      <td>parietal</td>\n",
              "      <td>-0.037970</td>\n",
              "    </tr>\n",
              "  </tbody>\n",
              "</table>\n",
              "</div>\n",
              "      <button class=\"colab-df-convert\" onclick=\"convertToInteractive('df-d4b229cc-3837-47e1-8354-185d9f27eadf')\"\n",
              "              title=\"Convert this dataframe to an interactive table.\"\n",
              "              style=\"display:none;\">\n",
              "        \n",
              "  <svg xmlns=\"http://www.w3.org/2000/svg\" height=\"24px\"viewBox=\"0 0 24 24\"\n",
              "       width=\"24px\">\n",
              "    <path d=\"M0 0h24v24H0V0z\" fill=\"none\"/>\n",
              "    <path d=\"M18.56 5.44l.94 2.06.94-2.06 2.06-.94-2.06-.94-.94-2.06-.94 2.06-2.06.94zm-11 1L8.5 8.5l.94-2.06 2.06-.94-2.06-.94L8.5 2.5l-.94 2.06-2.06.94zm10 10l.94 2.06.94-2.06 2.06-.94-2.06-.94-.94-2.06-.94 2.06-2.06.94z\"/><path d=\"M17.41 7.96l-1.37-1.37c-.4-.4-.92-.59-1.43-.59-.52 0-1.04.2-1.43.59L10.3 9.45l-7.72 7.72c-.78.78-.78 2.05 0 2.83L4 21.41c.39.39.9.59 1.41.59.51 0 1.02-.2 1.41-.59l7.78-7.78 2.81-2.81c.8-.78.8-2.07 0-2.86zM5.41 20L4 18.59l7.72-7.72 1.47 1.35L5.41 20z\"/>\n",
              "  </svg>\n",
              "      </button>\n",
              "      \n",
              "  <style>\n",
              "    .colab-df-container {\n",
              "      display:flex;\n",
              "      flex-wrap:wrap;\n",
              "      gap: 12px;\n",
              "    }\n",
              "\n",
              "    .colab-df-convert {\n",
              "      background-color: #E8F0FE;\n",
              "      border: none;\n",
              "      border-radius: 50%;\n",
              "      cursor: pointer;\n",
              "      display: none;\n",
              "      fill: #1967D2;\n",
              "      height: 32px;\n",
              "      padding: 0 0 0 0;\n",
              "      width: 32px;\n",
              "    }\n",
              "\n",
              "    .colab-df-convert:hover {\n",
              "      background-color: #E2EBFA;\n",
              "      box-shadow: 0px 1px 2px rgba(60, 64, 67, 0.3), 0px 1px 3px 1px rgba(60, 64, 67, 0.15);\n",
              "      fill: #174EA6;\n",
              "    }\n",
              "\n",
              "    [theme=dark] .colab-df-convert {\n",
              "      background-color: #3B4455;\n",
              "      fill: #D2E3FC;\n",
              "    }\n",
              "\n",
              "    [theme=dark] .colab-df-convert:hover {\n",
              "      background-color: #434B5C;\n",
              "      box-shadow: 0px 1px 3px 1px rgba(0, 0, 0, 0.15);\n",
              "      filter: drop-shadow(0px 1px 2px rgba(0, 0, 0, 0.3));\n",
              "      fill: #FFFFFF;\n",
              "    }\n",
              "  </style>\n",
              "\n",
              "      <script>\n",
              "        const buttonEl =\n",
              "          document.querySelector('#df-d4b229cc-3837-47e1-8354-185d9f27eadf button.colab-df-convert');\n",
              "        buttonEl.style.display =\n",
              "          google.colab.kernel.accessAllowed ? 'block' : 'none';\n",
              "\n",
              "        async function convertToInteractive(key) {\n",
              "          const element = document.querySelector('#df-d4b229cc-3837-47e1-8354-185d9f27eadf');\n",
              "          const dataTable =\n",
              "            await google.colab.kernel.invokeFunction('convertToInteractive',\n",
              "                                                     [key], {});\n",
              "          if (!dataTable) return;\n",
              "\n",
              "          const docLinkHtml = 'Like what you see? Visit the ' +\n",
              "            '<a target=\"_blank\" href=https://colab.research.google.com/notebooks/data_table.ipynb>data table notebook</a>'\n",
              "            + ' to learn more about interactive tables.';\n",
              "          element.innerHTML = '';\n",
              "          dataTable['output_type'] = 'display_data';\n",
              "          await google.colab.output.renderOutput(dataTable, element);\n",
              "          const docLink = document.createElement('div');\n",
              "          docLink.innerHTML = docLinkHtml;\n",
              "          element.appendChild(docLink);\n",
              "        }\n",
              "      </script>\n",
              "    </div>\n",
              "  </div>\n",
              "  "
            ],
            "text/plain": [
              "  subject  timepoint event    region    signal\n",
              "0     s13         18  stim  parietal -0.017552\n",
              "1      s5         14  stim  parietal -0.080883\n",
              "2     s12         18  stim  parietal -0.081033\n",
              "3     s11         18  stim  parietal -0.046134\n",
              "4     s10         18  stim  parietal -0.037970"
            ]
          },
          "metadata": {},
          "execution_count": 104
        }
      ]
    },
    {
      "cell_type": "code",
      "source": [
        "sns.lineplot(x=\"timepoint\",y=\"signal\",data=fmri) #are line plot is going to be built on top of fmri (so we write data=fmri)\n",
        "plt.show()"
      ],
      "metadata": {
        "colab": {
          "base_uri": "https://localhost:8080/",
          "height": 279
        },
        "id": "kSdHg-nsAAlH",
        "outputId": "818efa13-8c67-4721-e97e-a8d1626533c4"
      },
      "execution_count": null,
      "outputs": [
        {
          "output_type": "display_data",
          "data": {
            "image/png": "[encoded data removed]",
            "text/plain": [
              "<Figure size 432x288 with 1 Axes>"
            ]
          },
          "metadata": {
            "needs_background": "light"
          }
        }
      ]
    },
    {
      "cell_type": "code",
      "source": [
        "# Grouping Data With Hue\n",
        "sns.lineplot(x=\"timepoint\",y=\"signal\",data=fmri,hue=\"event\",style=\"event\",markers=True)\n",
        "plt.show()"
      ],
      "metadata": {
        "colab": {
          "base_uri": "https://localhost:8080/",
          "height": 279
        },
        "id": "BwoQ2gfuCGvy",
        "outputId": "a6ff5d38-008a-4b1d-fd0b-aee5ab374101"
      },
      "execution_count": 110,
      "outputs": [
        {
          "output_type": "display_data",
          "data": {
            "image/png": "[encoded data removed]",
            "text/plain": [
              "<Figure size 432x288 with 1 Axes>"
            ]
          },
          "metadata": {
            "needs_background": "light"
          }
        }
      ]
    },
    {
      "cell_type": "code",
      "source": [
        "# We also have sns.barplot\n",
        "# Example for a dataset pokemon\n",
        "# pokemon=pd.read_csv('pokemon.csv')\n",
        "# pokemon.head()\n",
        "# sns.barplot(x=\"is_legendary\",y=\"weight\",data=pokemon)\n",
        "# We can also use hue for coloring acoording to generation of pokemon\n",
        "# For different colors of bars in the graph we can use palette attribute to which we can assign predefined values like Blue_D Rocket etc.\n",
        "# For a single color to all of the bars present we can use color attribute and set it a value say orange\n",
        "# We also have scatterplot in sns\n",
        "# sns.scatterplot(x=\"sepal.length\",y=\"petal.length\",data=name_of_dataset)\n",
        "# We can vary color of the points on the scatter plot by mapping the hue aesthetic to petal length,etc."
      ],
      "metadata": {
        "id": "OORzjazuDkDM"
      },
      "execution_count": 112,
      "outputs": []
    },
    {
      "cell_type": "code",
      "source": [
        "# In seaborn the histogram is a combination of histogram and the frequency curve.\n",
        "# We write distplot method here\n",
        "# Example sns.distplot(object_from_name_of_dataset['column name'],hist=True/False(if you want to show frequency curve or not),color)\n",
        "# Example sns.distplot(object_from_name_of_dataset['column name'],kde=True/False(if you want to show histogram or not),color)\n",
        "# If you want to be based on y axis set vertical =True"
      ],
      "metadata": {
        "id": "EVNSFSMdFx5y"
      },
      "execution_count": 113,
      "outputs": []
    },
    {
      "cell_type": "code",
      "source": [
        "# Jointplot is a combination of scatter plot and the histogram(arguments remain same\n",
        "# Histogram of columns both on the x axis and the y axis will be shown\n",
        "# Additional attribute to be used is kind\n",
        "# We also have boxplot in sns\n",
        "# Boundary thickness of bars in box plot can be changed by using linewidth\n",
        "# We can also change order by using order =[list of the order/sequence]"
      ],
      "metadata": {
        "id": "nSUrRZNfHMQ2"
      },
      "execution_count": 116,
      "outputs": []
    }
  ]
}